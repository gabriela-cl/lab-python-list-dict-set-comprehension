{
 "cells": [
  {
   "cell_type": "markdown",
   "id": "25d7736c-ba17-4aff-b6bb-66eba20fbf4e",
   "metadata": {},
   "source": [
    "# Lab | List, Dict and Set Comprehension"
   ]
  },
  {
   "cell_type": "markdown",
   "id": "7dd3cbde-675a-4b81-92c3-f728846dbe06",
   "metadata": {},
   "source": [
    "## Exercise: Managing Customer Orders Optimized with Comprehension"
   ]
  },
  {
   "cell_type": "markdown",
   "id": "5d500160-2fb7-4777-b5e4-09d45ebaf328",
   "metadata": {},
   "source": [
    "In the previous exercise, you developed a program to manage customer orders and inventory. Now, let's take it a step further and incorporate comprehension into your code.\n",
    "\n",
    "Follow the steps below to complete the exercise:\n",
    "\n",
    "1. Review your code from the previous exercise and identify areas where you can apply comprehension to simplify and streamline your code. \n",
    "\n",
    "    - *Hint: Apply it to initialize inventory, updating the inventory and printing the updated inventory.*\n",
    "    \n",
    "    - For example, in initializing the inventory, we could have:\n",
    "    \n",
    "        ```python\n",
    "        def initialize_inventory(products):\n",
    "            inventory = {product: int(input(f\"Enter the quantity of {product}s available: \")) for product in products}\n",
    "            return inventory\n",
    "\n",
    "        ```\n",
    "<br>\n",
    "    \n",
    "    \n",
    "2. Modify the function get_customer_orders so it prompts the user to enter the number of customer orders and gathers the product names using a loop and user input. Use comprehension.\n",
    "\n",
    "3. Add a new function to calculate the total price of the customer order. For each product in customer_orders, prompt the user to enter the price of that product. Use comprehension to calculate the total price. Note: assume that the user can only have 1 unit of each product.\n",
    "\n",
    "4. Modify the update_inventory function to remove the product from the inventory if its quantity becomes zero after fulfilling the customer orders. Use comprehension to filter out the products with a quantity of zero from the inventory.\n",
    "\n",
    "5. Print the total price of the customer order.\n",
    "\n",
    "Your code should produce output similar to the following:\n",
    "\n",
    "```python\n",
    "Enter the quantity of t-shirts available:  5\n",
    "Enter the quantity of mugs available:  4\n",
    "Enter the quantity of hats available:  3\n",
    "Enter the quantity of books available:  2\n",
    "Enter the quantity of keychains available:  1\n",
    "Enter the number of customer orders:  2\n",
    "Enter the name of a product that a customer wants to order:  hat\n",
    "Enter the name of a product that a customer wants to order:  keychain\n",
    "\n",
    "Order Statistics:\n",
    "Total Products Ordered: 2\n",
    "Percentage of Unique Products Ordered: 40.0\n",
    "\n",
    "Updated Inventory:\n",
    "t-shirt: 5\n",
    "mug: 4\n",
    "hat: 2\n",
    "book: 2\n",
    "Enter the price of keychain:  5\n",
    "Enter the price of hat:  10\n",
    "Total Price: 15.0\n",
    "\n",
    "```\n"
   ]
  },
  {
   "cell_type": "code",
   "execution_count": 136,
   "id": "c4c850e3-d3ae-442c-bc63-763f13c1d21a",
   "metadata": {},
   "outputs": [],
   "source": [
    "products = [\"t-shirt\", \"mug\", \"hat\", \"book\", \"keychain\"]\n",
    "inventory = {} #dictionary"
   ]
  },
  {
   "cell_type": "code",
   "execution_count": 137,
   "id": "580fc0e8-2252-4e95-9eb9-c163c5a987fd",
   "metadata": {},
   "outputs": [
    {
     "name": "stdin",
     "output_type": "stream",
     "text": [
      "Enter the quantity of t-shirts available:  9\n",
      "Enter the quantity of mugs available:  8\n",
      "Enter the quantity of hats available:  7\n",
      "Enter the quantity of books available:  6\n",
      "Enter the quantity of keychains available:  1\n"
     ]
    },
    {
     "data": {
      "text/plain": [
       "{'t-shirt': 9, 'mug': 8, 'hat': 7, 'book': 6, 'keychain': 1}"
      ]
     },
     "execution_count": 137,
     "metadata": {},
     "output_type": "execute_result"
    }
   ],
   "source": [
    "#1  apply comprehension to initialize inventory \n",
    "def initialize_inventory(products):\n",
    "    inventory = {product: int(input(f\"Enter the quantity of {product}s available: \")) for product in products}\n",
    "    return inventory\n",
    "    \n",
    "inventory = initialize_inventory(products)\n",
    "inventory"
   ]
  },
  {
   "cell_type": "code",
   "execution_count": 138,
   "id": "b9b334d8-2267-4877-a901-54b7d9354f40",
   "metadata": {},
   "outputs": [],
   "source": [
    "customer_orders = set()"
   ]
  },
  {
   "cell_type": "code",
   "execution_count": 139,
   "id": "9ac870fd-c0d0-431d-8864-761680d766c4",
   "metadata": {},
   "outputs": [],
   "source": [
    "#2 Modify the function get_customer_orders so it prompts the user to enter the number of customer orders\n",
    "\n",
    "def get_customer_orders():\n",
    "    range_products = int(input(\"How many products do you want to buy? \"))\n",
    "    products_added = [input(\"Please enter a product that you would like to buy (you can enter each product only once): \") for product in range(range_products)]\n",
    "    \n",
    "    valid_products = []\n",
    "    for product in products_added:\n",
    "        while product not in inventory:\n",
    "            product = input(f\"{product} is not available. Please enter a valid product: \")\n",
    "        valid_products.append(product)\n",
    "\n",
    "    customer_orders = set(valid_products)\n",
    "    return customer_orders"
   ]
  },
  {
   "cell_type": "code",
   "execution_count": 140,
   "id": "dec04915-a2b5-4b16-b2ed-d5d4ff8713e3",
   "metadata": {},
   "outputs": [
    {
     "name": "stdin",
     "output_type": "stream",
     "text": [
      "How many products do you want to buy?  3\n",
      "Please enter a product that you would like to buy (you can enter each product only once):  book\n",
      "Please enter a product that you would like to buy (you can enter each product only once):  hat\n",
      "Please enter a product that you would like to buy (you can enter each product only once):  chair\n",
      "chair is not available. Please enter a valid product:  keychain\n"
     ]
    }
   ],
   "source": [
    "customer_orders = get_customer_orders()"
   ]
  },
  {
   "cell_type": "code",
   "execution_count": 141,
   "id": "c07491d6-d8a9-401d-9709-decf2e08d32c",
   "metadata": {},
   "outputs": [
    {
     "data": {
      "text/plain": [
       "{'book', 'hat', 'keychain'}"
      ]
     },
     "execution_count": 141,
     "metadata": {},
     "output_type": "execute_result"
    }
   ],
   "source": [
    "customer_orders"
   ]
  },
  {
   "cell_type": "code",
   "execution_count": 142,
   "id": "19e9552e-0a8c-47b2-b0dd-dc7583266b2d",
   "metadata": {},
   "outputs": [],
   "source": [
    "#1 apply comprehension to updating the inventory / #4 remove the product from the inventory if its quantity becomes zero\n",
    "def update_inventory(customer_orders, inventory):\n",
    "    for item in customer_orders:\n",
    "        if item in inventory:\n",
    "            inventory[item] -= 1\n",
    "            if inventory[item] == 0:\n",
    "                del inventory[item]\n",
    "    return inventory"
   ]
  },
  {
   "cell_type": "code",
   "execution_count": 143,
   "id": "8cab3fd8-d981-4dc2-8c7b-8211c1947fd0",
   "metadata": {},
   "outputs": [],
   "source": [
    "updated_inventory = update_inventory(customer_orders, inventory)"
   ]
  },
  {
   "cell_type": "code",
   "execution_count": 144,
   "id": "cf5a98a8-5a12-4308-b063-17e81951191b",
   "metadata": {},
   "outputs": [
    {
     "data": {
      "text/plain": [
       "{'t-shirt': 9, 'mug': 8, 'hat': 6, 'book': 5}"
      ]
     },
     "execution_count": 144,
     "metadata": {},
     "output_type": "execute_result"
    }
   ],
   "source": [
    "updated_inventory"
   ]
  },
  {
   "cell_type": "code",
   "execution_count": 145,
   "id": "8210206c-b835-4dac-bbea-efb61a8ccfab",
   "metadata": {},
   "outputs": [],
   "source": [
    "def calculate_order_statistics(customer_orders, products):\n",
    "    total_ordered = len(customer_orders)\n",
    "    total_inventory = len(inventory.keys())\n",
    "    percentage_ordered = (total_ordered/total_inventory)*100\n",
    "    return total_ordered, percentage_ordered"
   ]
  },
  {
   "cell_type": "code",
   "execution_count": 146,
   "id": "c7c642c4-7fed-4889-a172-d107946be2c7",
   "metadata": {},
   "outputs": [
    {
     "data": {
      "text/plain": [
       "(3, 75.0)"
      ]
     },
     "execution_count": 146,
     "metadata": {},
     "output_type": "execute_result"
    }
   ],
   "source": [
    "order_statistics = calculate_order_statistics (customer_orders, products)\n",
    "order_statistics"
   ]
  },
  {
   "cell_type": "code",
   "execution_count": 147,
   "id": "c74a6488-bdcc-40e7-a7ab-8699479b96b5",
   "metadata": {},
   "outputs": [],
   "source": [
    "def print_order_statistics(order_statistics):\n",
    "    print(f\"\"\"\n",
    "    Order Statistics:\n",
    "    Total Products Ordered: {order_statistics[0]}\n",
    "    Percentage of Products Ordered: {order_statistics[1]}%\n",
    "    \"\"\")"
   ]
  },
  {
   "cell_type": "code",
   "execution_count": 148,
   "id": "555ac273-fbf7-4190-a1c5-fb002a03a6d0",
   "metadata": {},
   "outputs": [],
   "source": [
    "#1 apply comprehension to printing the updated inventory\n",
    "def print_updated_inventory(updated_inventory):\n",
    "    print(updated_inventory)"
   ]
  },
  {
   "cell_type": "code",
   "execution_count": 149,
   "id": "199e96ce-3d81-4697-b0a5-8473b133473e",
   "metadata": {},
   "outputs": [
    {
     "name": "stdin",
     "output_type": "stream",
     "text": [
      "Enter the price of t-shirt:  10\n",
      "Enter the price of mug:  10\n",
      "Enter the price of hat:  10\n",
      "Enter the price of book:  10\n",
      "Enter the price of keychain:  10\n"
     ]
    },
    {
     "data": {
      "text/plain": [
       "{'t-shirt': 10, 'mug': 10, 'hat': 10, 'book': 10, 'keychain': 10}"
      ]
     },
     "execution_count": 149,
     "metadata": {},
     "output_type": "execute_result"
    }
   ],
   "source": [
    "# 3 prompt the user to enter the price of that product\n",
    "def inventory_price(products):\n",
    "    inventory_price_dict = {product: int(input(f\"Enter the price of {product}: \")) for product in products}\n",
    "    return inventory_price_dict\n",
    "    \n",
    "inventory_price_dict = inventory_price(products)\n",
    "inventory_price_dict"
   ]
  },
  {
   "cell_type": "code",
   "execution_count": 150,
   "id": "ef48d1f1-f1ed-42a8-bc0e-796151d67d40",
   "metadata": {},
   "outputs": [],
   "source": [
    "#3 Add a new function to calculate the total price of the customer order\n",
    "\n",
    "def total_price(customer_orders, inventory_price_dict):\n",
    "    total = 0\n",
    "    for item in customer_orders:\n",
    "        total += 1 * inventory_price_dict[item]  # Use 1 as the quantity\n",
    "    return total\n",
    "total_price_order = total_price(customer_orders, inventory_price_dict)"
   ]
  },
  {
   "cell_type": "code",
   "execution_count": 151,
   "id": "970f07ba-9269-4a6e-8ddd-8e79bf42f397",
   "metadata": {},
   "outputs": [],
   "source": [
    "#5 Print the total price of the customer order\n",
    "def print_total_price(order_statistics):\n",
    "    print(f\"The total price of your order is {tota_price_order}\")"
   ]
  },
  {
   "cell_type": "code",
   "execution_count": null,
   "id": "165cfda2-af76-4b72-ab6f-05fe947ffa9a",
   "metadata": {},
   "outputs": [
    {
     "name": "stdin",
     "output_type": "stream",
     "text": [
      "Enter the quantity of t-shirts available:  8\n",
      "Enter the quantity of mugs available:  7\n",
      "Enter the quantity of hats available:  6\n",
      "Enter the quantity of books available:  5\n",
      "Enter the quantity of keychains available:  1\n",
      "Enter the price of t-shirt:  5\n",
      "Enter the price of mug:  5\n",
      "Enter the price of hat:  5\n",
      "Enter the price of book:  5\n",
      "Enter the price of keychain:  5\n",
      "How many products do you want to buy?  3\n",
      "Please enter a product that you would like to buy (you can enter each product only once):  book\n",
      "Please enter a product that you would like to buy (you can enter each product only once):  hat\n",
      "Please enter a product that you would like to buy (you can enter each product only once):  chair\n",
      "chair is not available. Please enter a valid product:  keychain\n"
     ]
    }
   ],
   "source": [
    "# Final test\n",
    "\n",
    "initialize_inventory(products)\n",
    "inventory_price(products)\n",
    "get_customer_orders()\n",
    "calculate_order_statistics(customer_orders, products)\n",
    "print_order_statistics(order_statistics)\n",
    "update_inventory(customer_orders, inventory)\n",
    "print_updated_inventory(inventory)\n",
    "total_price (inventory_price, customer_orders)"
   ]
  },
  {
   "cell_type": "code",
   "execution_count": null,
   "id": "0c81a476-e113-4e64-b397-f6cc384f807d",
   "metadata": {},
   "outputs": [],
   "source": []
  }
 ],
 "metadata": {
  "kernelspec": {
   "display_name": "Python 3 (ipykernel)",
   "language": "python",
   "name": "python3"
  },
  "language_info": {
   "codemirror_mode": {
    "name": "ipython",
    "version": 3
   },
   "file_extension": ".py",
   "mimetype": "text/x-python",
   "name": "python",
   "nbconvert_exporter": "python",
   "pygments_lexer": "ipython3",
   "version": "3.11.7"
  }
 },
 "nbformat": 4,
 "nbformat_minor": 5
}
